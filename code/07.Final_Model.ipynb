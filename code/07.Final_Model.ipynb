{
 "cells": [
  {
   "cell_type": "markdown",
   "id": "be9361e3-ce52-46c7-b8e7-51b6958be276",
   "metadata": {},
   "source": [
    "<img src=\"http://imgur.com/1ZcRyrc.png\" style=\"float: left; margin: 20px; height: 100px\">\n",
    "\n",
    "# Capstone Project: Classifying Logistics Research Papers\n",
    "## Part 7 : Final Model"
   ]
  },
  {
   "cell_type": "markdown",
   "id": "99770c0a-fe13-4541-8bd4-26ab266e29c1",
   "metadata": {},
   "source": [
    "---\n",
    "\n",
    " [Part 1: Get Text](01.Get_Text.ipynb) | [Part 2: Add Label](02.Add_Label.ipynb) | [Part 3: EDA](03.EDA.ipynb) | [Part 4: Gridsearch Classification](04.Gridsearch_Classification.ipynb) | [Part 5: Neural Network Classification](05.NeuralNet_Classification.ipynb) | [Part 6: Model Evaluation](06.Model_Evaluation.ipynb) | **Part 7: Final Model**\n",
    "\n",
    "---"
   ]
  },
  {
   "cell_type": "markdown",
   "id": "8bddcbb9-bbed-4a7a-80f5-333cf28e5c10",
   "metadata": {},
   "source": [
    "### Introduction\n",
    "This notebook presents the final model for document classification based on extensive evaluation of different machine learning techniques. After thorough testing, the Neural Network model emerged as the best performing model.\n",
    "\n",
    "The model leverages a **TF-IDF vectorizer** with the following optimal parameters:\n",
    "\n",
    "- `max_df = 0.9` : To ignore terms that appear in more than 90% of the documents, reducing noise.\n",
    "- `max_features = 5000` : To limit the number of features and focus on the most informative terms.\n",
    "\n",
    "For tokenization, the `newmm` engine from `pythainlp` was used, which efficiently handles Thai text preprocessing.\n",
    "\n",
    "The neural network model is designed with:\n",
    "\n",
    "- **5 hidden layers** : To capture complex patterns in the data.\n",
    "- **Activation function = Softmax** : For multi-class classification, ensuring that the output is a probability distribution across all classes.\n",
    "- **Early stopping** : Implemented to prevent overfitting by halting training if the validation loss does not improve for a set number of epochs.\n",
    "\n",
    "The final model was evaluated using various parameter configurations, and this approach proved to be the most effective for classifying the documents with the highest accuracy."
   ]
  },
  {
   "cell_type": "markdown",
   "id": "3f808999-5c32-45f4-b311-8274b69bf929",
   "metadata": {},
   "source": [
    "### Import Library"
   ]
  },
  {
   "cell_type": "code",
   "execution_count": 3,
   "id": "4661e514-973e-4433-ab02-fd6eb93c4f20",
   "metadata": {},
   "outputs": [],
   "source": [
    "import pandas as pd\n",
    "import numpy as np\n",
    "import matplotlib\n",
    "import matplotlib.pyplot as plt\n",
    "import seaborn as sns\n",
    "import time\n",
    "\n",
    "from pythainlp.tokenize import word_tokenize\n",
    "from pythainlp.corpus.common import thai_words, thai_stopwords\n",
    "from pythainlp.util import dict_trie\n",
    "\n",
    "from sklearn.model_selection import train_test_split\n",
    "from sklearn.metrics import classification_report, accuracy_score, confusion_matrix\n",
    "from sklearn.preprocessing import LabelEncoder\n",
    "from sklearn.feature_extraction.text import TfidfVectorizer\n",
    "from imblearn.under_sampling import RandomUnderSampler\n",
    "from tabulate import tabulate\n",
    "\n",
    "from tensorflow.keras.models import Sequential, save_model\n",
    "from tensorflow.keras.layers import Dense, Dropout, BatchNormalization, Input\n",
    "from tensorflow.keras.optimizers import Adam\n",
    "from tensorflow.keras.callbacks import EarlyStopping \n",
    "import joblib\n"
   ]
  },
  {
   "cell_type": "code",
   "execution_count": 4,
   "id": "165c82ae-85aa-4658-8457-12190a30fb96",
   "metadata": {},
   "outputs": [
    {
     "data": {
      "text/html": [
       "<div>\n",
       "<style scoped>\n",
       "    .dataframe tbody tr th:only-of-type {\n",
       "        vertical-align: middle;\n",
       "    }\n",
       "\n",
       "    .dataframe tbody tr th {\n",
       "        vertical-align: top;\n",
       "    }\n",
       "\n",
       "    .dataframe thead th {\n",
       "        text-align: right;\n",
       "    }\n",
       "</style>\n",
       "<table border=\"1\" class=\"dataframe\">\n",
       "  <thead>\n",
       "    <tr style=\"text-align: right;\">\n",
       "      <th></th>\n",
       "      <th>Unnamed: 0</th>\n",
       "      <th>project</th>\n",
       "      <th>abstract</th>\n",
       "      <th>content</th>\n",
       "      <th>category</th>\n",
       "      <th>category_id</th>\n",
       "      <th>content_length</th>\n",
       "      <th>abstract_length</th>\n",
       "      <th>content_word_count</th>\n",
       "      <th>abstract_word_count</th>\n",
       "    </tr>\n",
       "  </thead>\n",
       "  <tbody>\n",
       "    <tr>\n",
       "      <th>0</th>\n",
       "      <td>0</td>\n",
       "      <td>การจัดทำคู่มือขั้นตอนการดำเนินการการนำเข้าคราฟ...</td>\n",
       "      <td>ผู้วิจัยได้ตระหนักถึงความยุ่งยากของขั้นตอนการน...</td>\n",
       "      <td>การจัดทำคู่มือขั้นตอนการดำเนินการการนำเข้าคราฟ...</td>\n",
       "      <td>Import-Export</td>\n",
       "      <td>5</td>\n",
       "      <td>11582</td>\n",
       "      <td>860</td>\n",
       "      <td>2402</td>\n",
       "      <td>171</td>\n",
       "    </tr>\n",
       "    <tr>\n",
       "      <th>1</th>\n",
       "      <td>1</td>\n",
       "      <td>การเสนอแนวทางในการพัฒนาและสร้างความสัมพันธ์กับ...</td>\n",
       "      <td>งานวิจัยครั้งนี้มีวัตถุประสงค์เพื่อเสนอแนวทางใ...</td>\n",
       "      <td>การเสนอแนวทางในการพัฒนาและสร้างความสัมพันธ์กับ...</td>\n",
       "      <td>Procurement and Sourcing</td>\n",
       "      <td>0</td>\n",
       "      <td>15230</td>\n",
       "      <td>1186</td>\n",
       "      <td>3601</td>\n",
       "      <td>267</td>\n",
       "    </tr>\n",
       "    <tr>\n",
       "      <th>2</th>\n",
       "      <td>2</td>\n",
       "      <td>การพัฒนามาตรฐานรถขนส่งวัตถุอันตรายที่เข้ามาในค...</td>\n",
       "      <td>ดำเนินธุรกิจเป็นผู้นำเข้า และจัดจำหน่ายสินค้าก...</td>\n",
       "      <td>การพัฒนามาตรฐานรถขนส่งวัตถุอันตรายที่เข้ามาในค...</td>\n",
       "      <td>Distribution and Transportation</td>\n",
       "      <td>3</td>\n",
       "      <td>13587</td>\n",
       "      <td>1964</td>\n",
       "      <td>2883</td>\n",
       "      <td>383</td>\n",
       "    </tr>\n",
       "    <tr>\n",
       "      <th>3</th>\n",
       "      <td>3</td>\n",
       "      <td>แนวทางการปรับปรุงกระบวนการการส่งเอกสารใบกำกับภ...</td>\n",
       "      <td>การวิจัยครั้งนี้มีวัตถุประสงค์ เพื่อศึกษาขั้นต...</td>\n",
       "      <td>แนวทางการปรับปรุงกระบวนการการส่งเอกสารใบกำกับภ...</td>\n",
       "      <td>Procurement and Sourcing</td>\n",
       "      <td>0</td>\n",
       "      <td>13124</td>\n",
       "      <td>1260</td>\n",
       "      <td>3283</td>\n",
       "      <td>269</td>\n",
       "    </tr>\n",
       "    <tr>\n",
       "      <th>4</th>\n",
       "      <td>4</td>\n",
       "      <td>การศึกษาเทคนิคการพยากรณ์ยอดขายสายไฟที่เหมาะสม</td>\n",
       "      <td>จากสถานการณ์การแพร่ระบาดของเชื้อไวรัสโคโรนา 20...</td>\n",
       "      <td>การศึกษาเทคนิคการพยากรณ์ยอดขายสายไฟที่เหมาะสม ...</td>\n",
       "      <td>Demand Planning</td>\n",
       "      <td>4</td>\n",
       "      <td>25247</td>\n",
       "      <td>1956</td>\n",
       "      <td>6114</td>\n",
       "      <td>496</td>\n",
       "    </tr>\n",
       "  </tbody>\n",
       "</table>\n",
       "</div>"
      ],
      "text/plain": [
       "   Unnamed: 0                                            project  \\\n",
       "0           0  การจัดทำคู่มือขั้นตอนการดำเนินการการนำเข้าคราฟ...   \n",
       "1           1  การเสนอแนวทางในการพัฒนาและสร้างความสัมพันธ์กับ...   \n",
       "2           2  การพัฒนามาตรฐานรถขนส่งวัตถุอันตรายที่เข้ามาในค...   \n",
       "3           3  แนวทางการปรับปรุงกระบวนการการส่งเอกสารใบกำกับภ...   \n",
       "4           4      การศึกษาเทคนิคการพยากรณ์ยอดขายสายไฟที่เหมาะสม   \n",
       "\n",
       "                                            abstract  \\\n",
       "0  ผู้วิจัยได้ตระหนักถึงความยุ่งยากของขั้นตอนการน...   \n",
       "1  งานวิจัยครั้งนี้มีวัตถุประสงค์เพื่อเสนอแนวทางใ...   \n",
       "2  ดำเนินธุรกิจเป็นผู้นำเข้า และจัดจำหน่ายสินค้าก...   \n",
       "3  การวิจัยครั้งนี้มีวัตถุประสงค์ เพื่อศึกษาขั้นต...   \n",
       "4  จากสถานการณ์การแพร่ระบาดของเชื้อไวรัสโคโรนา 20...   \n",
       "\n",
       "                                             content  \\\n",
       "0  การจัดทำคู่มือขั้นตอนการดำเนินการการนำเข้าคราฟ...   \n",
       "1  การเสนอแนวทางในการพัฒนาและสร้างความสัมพันธ์กับ...   \n",
       "2  การพัฒนามาตรฐานรถขนส่งวัตถุอันตรายที่เข้ามาในค...   \n",
       "3  แนวทางการปรับปรุงกระบวนการการส่งเอกสารใบกำกับภ...   \n",
       "4  การศึกษาเทคนิคการพยากรณ์ยอดขายสายไฟที่เหมาะสม ...   \n",
       "\n",
       "                          category  category_id  content_length  \\\n",
       "0                    Import-Export            5           11582   \n",
       "1         Procurement and Sourcing            0           15230   \n",
       "2  Distribution and Transportation            3           13587   \n",
       "3         Procurement and Sourcing            0           13124   \n",
       "4                  Demand Planning            4           25247   \n",
       "\n",
       "   abstract_length  content_word_count  abstract_word_count  \n",
       "0              860                2402                  171  \n",
       "1             1186                3601                  267  \n",
       "2             1964                2883                  383  \n",
       "3             1260                3283                  269  \n",
       "4             1956                6114                  496  "
      ]
     },
     "execution_count": 4,
     "metadata": {},
     "output_type": "execute_result"
    }
   ],
   "source": [
    "df = pd.read_csv('../data/cleaned_text.csv')\n",
    "df.head()"
   ]
  },
  {
   "cell_type": "code",
   "execution_count": 28,
   "id": "49c72316-50ff-4934-ab19-fa183c0c5967",
   "metadata": {},
   "outputs": [],
   "source": [
    "# Add custom word to keep from 5 sample abstract\n",
    "added_words = ['การนำเข้า', 'ฐานนิยม', 'คราฟท์', 'แนวทาง', 'ผู้ส่งมอบ', 'โซ่อุปทาน', 'ปัจจัยรอง', \n",
    "               'การส่งมอบ', 'รถขนส่ง', 'นำไปใช้งาน', 'อย่างถูกต้อง', 'การขับรถ', 'ที่เกี่ยวข้อง', \n",
    "               'ในการปฏิบัติงาน', 'พนักงานขับรถ', 'สิ่งสำคัญ', 'ขั้นตอน', 'ที่ชัดเจน', 'การไหล', 'ยอดขาย', \n",
    "              'การจัดทำ', 'คราฟท์เบียร์', 'ฝึกสหกิจ', 'อย่างก้าวกระโดด','การจัดซื้อจัดหา','กระบวนการ',\n",
    "               'แบบประเมิน','เก็บข้อมูล','อย่างชัดเจน','การดำเนินการ','การส่งเสริม','ถังดับเพลิง','แนวทาง']\n",
    "\n",
    "# Merge custom words with Thai dictionary words\n",
    "custom_words = set(thai_words()).union(added_words)\n",
    "custom_trie = dict_trie(custom_words)  # Create a trie from the custom dictionary"
   ]
  },
  {
   "cell_type": "code",
   "execution_count": 29,
   "id": "1ad2dd71-6eab-4ff6-a9ca-465807a5df6c",
   "metadata": {},
   "outputs": [],
   "source": [
    "def thai_preprocess(text):\n",
    "    tokens = word_tokenize(text, custom_dict= custom_trie, engine=\"newmm\")\n",
    "    return \" \".join([token for token in tokens if token not in thai_stopwords()])"
   ]
  },
  {
   "cell_type": "code",
   "execution_count": 5,
   "id": "b2c5d53a-6334-4216-bd95-2a610e28ad47",
   "metadata": {},
   "outputs": [],
   "source": [
    "# Create fuction to fit Neural Network model\n",
    "def nn_model(X_train_tfidf, X_test_tfidf, y_train_encoded, y_test_encoded):\n",
    "    \n",
    "    # Early stop\n",
    "    es = EarlyStopping(\n",
    "        monitor = 'val_loss'\n",
    "        , patience = 5\n",
    "        , restore_best_weights = True \n",
    "    )\n",
    "    \n",
    "    model = Sequential()\n",
    "    model.add(Input(shape=(5000,)))\n",
    "    model.add(BatchNormalization())\n",
    "\n",
    "    model.add(Dense(512, activation='relu')) # 512 neurons with ReLU activation\n",
    "    model.add(Dropout(0.2)) #  Dropout layers (with a rate of 0.2)\n",
    "\n",
    "    model.add(Dense(256, activation='relu')) # 256 neurons with ReLU activation\n",
    "    model.add(Dropout(0.2)) #  Dropout layers (with a rate of 0.2)\n",
    "\n",
    "    model.add(Dense(128, activation='relu')) # 128 neurons with ReLU activation\n",
    "    model.add(Dropout(0.2)) #  Dropout layers (with a rate of 0.2)\n",
    "\n",
    "    model.add(Dense(64, activation='relu')) # 64 neurons with ReLU activation\n",
    "    model.add(Dense(32, activation='relu')) # 32 neurons with ReLU activation\n",
    "    \n",
    "    model.add(Dense(len(df['category'].unique()), activation='softmax'))  # Softmax for multi-class classification / 8 classes\n",
    "    \n",
    "    # model compile\n",
    "    model.compile(optimizer=Adam(), loss='sparse_categorical_crossentropy', metrics=['accuracy'])\n",
    "    \n",
    "    # train model\n",
    "    model.fit(X_train_tfidf, y_train_encoded, epochs=50, batch_size=4, validation_data=(X_test_tfidf, y_test_encoded), callbacks = [es], verbose =0)\n",
    "    \n",
    "    # predict\n",
    "    y_pred_nn = model.predict(X_test_tfidf, verbose =0)\n",
    "    y_pred_nn = y_pred_nn.argmax(axis=1)  # transform predict value to class\n",
    "    \n",
    "    # transform y back to value\n",
    "    y_pred_nn = label_encoder.inverse_transform(y_pred_nn)\n",
    "    \n",
    "    return accuracy_score(y_test, y_pred_nn),y_pred_nn,model"
   ]
  },
  {
   "cell_type": "code",
   "execution_count": 6,
   "id": "c426f704-77f4-4963-8951-3f8684c16a6f",
   "metadata": {},
   "outputs": [],
   "source": [
    "X = df['content'].apply(thai_preprocess)\n",
    "y = df['category']"
   ]
  },
  {
   "cell_type": "code",
   "execution_count": 7,
   "id": "812013d9-e116-4628-85fc-d72a83447a59",
   "metadata": {},
   "outputs": [],
   "source": [
    "# Split data\n",
    "X_train, X_test, y_train, y_test = train_test_split(X, y, test_size=0.3, random_state=42, stratify=y)\n",
    "\n",
    "# Apply TF-IDF\n",
    "tfidf = TfidfVectorizer(max_features=5000, max_df=0.9)\n",
    "X_train_tfidf = tfidf.fit_transform(X_train)\n",
    "X_test_tfidf = tfidf.transform(X_test)\n",
    "\n",
    "# transform y_train and y_test to numeric\n",
    "label_encoder = LabelEncoder()\n",
    "y_train_encoded = label_encoder.fit_transform(y_train)\n",
    "y_test_encoded = label_encoder.transform(y_test)"
   ]
  },
  {
   "cell_type": "code",
   "execution_count": null,
   "id": "ceb9d52e-c61c-48ce-bc7c-5aa5226a236f",
   "metadata": {},
   "outputs": [],
   "source": [
    "score, y_pred, model =  nn_model(X_train_tfidf, X_test_tfidf, y_train_encoded, y_test_encoded)"
   ]
  },
  {
   "cell_type": "code",
   "execution_count": 16,
   "id": "b5708a09-3a33-4cef-80a8-bc24ed28fd0a",
   "metadata": {},
   "outputs": [
    {
     "data": {
      "image/png": "[encoded data removed]",
      "text/plain": [
       "<Figure size 800x600 with 2 Axes>"
      ]
     },
     "metadata": {},
     "output_type": "display_data"
    }
   ],
   "source": [
    "# Set a font that supports Thai characters.\n",
    "matplotlib.rcParams['font.family'] = 'TH SarabunPSK'\n",
    "\n",
    "# create confusion matrix\n",
    "cm = confusion_matrix(y_test, y_pred)\n",
    "\n",
    "# create heatmap for confusion matrix\n",
    "plt.figure(figsize=(8, 6))\n",
    "sns.heatmap(cm, annot=True, fmt='d', cmap='Blues', xticklabels=label_encoder.classes_, yticklabels=label_encoder.classes_)\n",
    "plt.xlabel('Predicted')\n",
    "plt.ylabel('Actual')\n",
    "plt.title('Confusion Matrix')\n",
    "\n",
    "plt.savefig('../images/confusion_matrix.png', dpi = 300, bbox_inches = 'tight')\n",
    "\n",
    "plt.show()"
   ]
  },
  {
   "cell_type": "code",
   "execution_count": 117,
   "id": "6737b07d-11c8-4f5e-b0c1-e216dcfd2635",
   "metadata": {},
   "outputs": [
    {
     "name": "stdout",
     "output_type": "stream",
     "text": [
      "Accuracy score: 0.7157\n",
      "\n",
      "+---------------------------------------+-----------+--------+----------+---------+\n",
      "|               Category                | Precision | Recall | F1-Score | Support |\n",
      "+---------------------------------------+-----------+--------+----------+---------+\n",
      "|           Customer Service            |    0.5    |  0.2   |   0.29   |    5    |\n",
      "|    Demand Planning and Forecasting    |   0.56    |  0.71  |   0.62   |    7    |\n",
      "| Import-Export and International Trade |   0.79    |  0.92  |   0.85   |   12    |\n",
      "|         Inventory Management          |   0.76    |  0.84  |   0.8    |   31    |\n",
      "|      Logistics and Distribution       |   0.68    |  0.71  |   0.7    |   21    |\n",
      "|       Manufacturing/Production        |   0.67    |  0.44  |   0.53   |    9    |\n",
      "|                Others                 |    0.5    |  0.38  |   0.43   |    8    |\n",
      "|              Procurement              |   0.89    |  0.89  |   0.89   |    9    |\n",
      "+---------------------------------------+-----------+--------+----------+---------+\n"
     ]
    }
   ],
   "source": [
    "# Generate the classification report as a string\n",
    "report_dict = classification_report(y_test, y_pred, target_names=label_encoder.classes_,output_dict=True)\n",
    "\n",
    "# Prepare the table data from the dictionary\n",
    "table_data = []\n",
    "for category, metrics in report_dict.items():\n",
    "    if category not in ['accuracy', 'macro avg', 'weighted avg']:  # Exclude the summary lines\n",
    "        table_data.append([category, round(metrics['precision'],2), round(metrics['recall'],2), round(metrics['f1-score'],2), round(metrics['support'])])\n",
    "\n",
    "# Add column headers for the table\n",
    "headers = [\"Category\", \"Precision\", \"Recall\", \"F1-Score\", \"Support\"]\n",
    "\n",
    "print(f'Accuracy score: {score:.4f}\\n')\n",
    "# Display the report using tabulate for a nicer table format\n",
    "print(tabulate(table_data, headers=headers, tablefmt='pretty'))\n"
   ]
  },
  {
   "cell_type": "markdown",
   "id": "5e5e9e92-5ce1-4c0f-b957-7c012e024589",
   "metadata": {},
   "source": [
    "**The model performs well** in `Procurement`, `Import-Export`,  `Inventory Management` and `Logistics and Distribution` categories. \n",
    "\n",
    "**Struggles** in  `Manufacturing/Production`, `Others`, `Customer Service` and  due to low F1-scores."
   ]
  },
  {
   "cell_type": "markdown",
   "id": "ba363aaa-901d-4ce2-9167-a55884004fc1",
   "metadata": {},
   "source": [
    "### Save model and Testing"
   ]
  },
  {
   "cell_type": "code",
   "execution_count": 120,
   "id": "6a3eb896-befd-46c7-9023-7f18c4a7cb49",
   "metadata": {},
   "outputs": [
    {
     "data": {
      "text/plain": [
       "['../model/model.pkl']"
      ]
     },
     "execution_count": 120,
     "metadata": {},
     "output_type": "execute_result"
    }
   ],
   "source": [
    "# Save the model, tfidf, and label encoder together in a dictionary\n",
    "saved_objects = {\n",
    "    'tfidf': tfidf,\n",
    "    'model': model,\n",
    "    'label_encoder': label_encoder\n",
    "}\n",
    "\n",
    "# Save the combined dictionary to a single file\n",
    "joblib.dump(saved_objects, '../model/model.pkl')"
   ]
  },
  {
   "cell_type": "code",
   "execution_count": 10,
   "id": "a4c3a85e-1b80-4826-8713-c2d5cd507f8f",
   "metadata": {},
   "outputs": [],
   "source": [
    "# Load the dictionary from the file\n",
    "objects = joblib.load('../model/model.pkl')\n",
    "\n",
    "# Access individual components\n",
    "tfidf = objects['tfidf']\n",
    "model = objects['model']\n",
    "label_encoder = objects['label_encoder']"
   ]
  },
  {
   "cell_type": "code",
   "execution_count": 126,
   "id": "8f56051a-e16c-4f5e-9345-7d7db6d117d0",
   "metadata": {},
   "outputs": [
    {
     "name": "stdout",
     "output_type": "stream",
     "text": [
      "Class: Inventory Management\n",
      "Probability :21.76%\n",
      "\n",
      "Class: Manufacturing/Production\n",
      "Probability :19.67%\n",
      "\n",
      "Class: Logistics and Distribution\n",
      "Probability :13.30%\n",
      "\n",
      "Class: Demand Planning and Forecasting\n",
      "Probability :12.62%\n",
      "\n",
      "Class: Procurement\n",
      "Probability :10.46%\n",
      "\n",
      "Class: Others\n",
      "Probability :9.05%\n",
      "\n",
      "Class: Customer Service\n",
      "Probability :8.31%\n",
      "\n",
      "Class: Import-Export and International Trade\n",
      "Probability :4.83%\n",
      "\n"
     ]
    }
   ],
   "source": [
    "text = \"\"\"งานวิจัยนี้มีวัตถุประสงค์เพื่อ เพื่อศึกษาสภาพปัจจุบันและปัญหาที่เกี่ยวข้องกับการจัดการพัสดุคงคลังของส่วนราชการ, \n",
    "เพื่อทำการจัดลำดับการเข้าก่อนออกก่อนของพัสดุคงคลังในแต่ละงวดการรับพัสดุ และเพื่อเปรียบเทียบความรวดเร็ว \n",
    "ความถูกต้องแม่นยำของข้อมูลพัสดุคงคลังกับทะเบียนคุม โดยการนำแนวทางการจัดการพัสดุคงคลังที่เหมาะสมมาประยุกต์ใช้ \n",
    "เพื่อให้การปรับปรุงมีประสิทธิภาพ ประชากรที่ใช้ในการวิจัยครั้งนี้คือ พัสดุคงคลังประเภทวัสดุสานักงานและคอมพิวเตอร์ \n",
    "ซึ่งได้มาจากการทบทวนเอกสารการสั่งซื้อวัสดุครุภัณฑ์ประจาปี 2558 – 2561 เป็นตัวแทนของประชากรทั้งหมดเพื่อนำมาทำการวิจัย ผลการศึกษาวิจัยสภาพปัญหาที่เกิดขึ้น\n",
    "ประกอบกับลักษณะขององค์การ พบว่าปัญหา ที่เกิดขึ้นในองค์การที่สำคัญ คือ ปัญหาด้านการจัดการพัสดุคงคลังมีพัสดุไม่สามารถตรวจสอบปริมาณพัสดุทั้งหมดที่แท้จริงได้ \n",
    "และการหยิบพัสดุจากพื้นที่จัดเก็บหาพัสดุไม่พบ เนื่องจาก การจัดเก็บไม่เป็นระเบียบ ไม่มีหลักเกณฑ์ การประเมินประสิทธิภาพระบบการจัดการพัสดุคงคลังก่อนและหลังการประยุกต์ใช้เทคนิค\n",
    "การควบคุม จากผลการเปรียบเทียบความเร็วของการหยิบ ตั้งแต่เดือน พ.ค. 2561 – ส.ค. 2561 พบว่าโดยหลังการปรับปรุงเวลาการหยิบ (นาที) ของแต่ละรายการลดลงอย่างเห็นได้ชัด \n",
    "เมื่อเรียงลำดับจากมากไปหาน้อยของแต่ละรายการโดยลำดับแรกคือ ปากกาลูกลื่น สีน้าเงิน เวลา การหยิบเดือน พ.ค. คือ 14.43 นาที และเดือนสุดท้ายที่ทำการทดลองคือเดือน ส.ค. \n",
    "เท่ากับ 2.15 นาที ลดลง 12.28 นาที และลำดับสุดท้ายคือ หมึกเครื่องถ่ายแอกสาร Kyocera เวลาการหยิบเดือน พ.ค. คือ 13.10 นาที และเดือนสุดท้ายที่ทำการทดลองคือ\n",
    "เดือน ส.ค. เท่ากับ 1.43 นาที ลดลง 11.67 นาที แสดงถึงความมีประสิทธิภาพที่ดีขึ้นจากเดิม และจากผลการเปรียบเทียบความถูกต้องของข้อมูลพัสดุคงคลังที่มีอยู่จริงกับทะเทียนคุม\n",
    "ในปี 2558 – 2561 ของรายการลวดเสียบกระดาษ พบว่าการนำเทคนิค Visual Control และ FIFO มีผลความผิดพลาดของข้อมูลสูงที่ 100% หมายความว่ายังไม่มีประสิทธิภาพในการจัดการพอสมควร\"\"\"\n",
    "\n",
    "\n",
    "# Use the model for prediction\n",
    "text_tfidf = tfidf.transform([text])  # Transform your input text\n",
    "prediction = model.predict(text_tfidf.toarray(), verbose = 0)  # Convert sparse matrix to dense array\n",
    "# Decode class labels\n",
    "all_classes = label_encoder.inverse_transform(range(prediction.shape[1]))\n",
    "\n",
    "# Combine classes and probabilities into a list of tuples\n",
    "class_probs = list(zip(all_classes, prediction[0]))\n",
    "\n",
    "# Sort class_probs by the second element (probability) in descending order\n",
    "sorted_class_probs = sorted(class_probs, key=lambda x: x[1], reverse=True)\n",
    "for cat in sorted_class_probs:\n",
    "    print(f\"Class: {cat[0]}\")\n",
    "    print(f'Probability :{cat[1]*100:.2f}%\\n')"
   ]
  }
 ],
 "metadata": {
  "kernelspec": {
   "display_name": "new",
   "language": "python",
   "name": "new"
  },
  "language_info": {
   "codemirror_mode": {
    "name": "ipython",
    "version": 3
   },
   "file_extension": ".py",
   "mimetype": "text/x-python",
   "name": "python",
   "nbconvert_exporter": "python",
   "pygments_lexer": "ipython3",
   "version": "3.11.10"
  }
 },
 "nbformat": 4,
 "nbformat_minor": 5
}
